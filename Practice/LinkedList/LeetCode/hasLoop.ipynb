{
 "cells": [
  {
   "attachments": {
    "image-2.png": {
     "image/png": "[encoded data removed]"
    }
   },
   "cell_type": "markdown",
   "id": "4dfa3062",
   "metadata": {},
   "source": [
    "# LL: Has Loop ( ** Interview Question)\n",
    "\n",
    "Write a method called `has_loop` that is part of the linked list class.\n",
    "\n",
    "The method should be able to detect if there is a cycle or loop present in the linked list.\n",
    "\n",
    "You are required to use Floyd's cycle-finding algorithm (also known as the \"tortoise and the hare\" algorithm) to detect the loop.\n",
    "\n",
    "This algorithm uses two pointers: a `slow` pointer and a `fast` pointer. The `slow` pointer moves one step at a time, while the `fast` pointer moves two steps at a time. If there is a loop in the linked list, the two pointers will eventually meet at some point. If there is no loop, the `fast` pointer will reach the end of the list.\n",
    "\n",
    "The method should follow these guidelines:\n",
    "\n",
    "1.  Create two pointers, `slow` and `fast`, both initially pointing to the `head` of the linked list.\n",
    "2.  Traverse the list with the `slow` pointer moving one step at a time, while the `fast` pointer moves two steps at a time.\n",
    "3.  If there is a loop in the list, the `fast` pointer will eventually meet the `slow` pointer. If this occurs,\n",
    "\n",
    "![image-2.png](attachment:image-2.png)\n"
   ]
  },
  {
   "cell_type": "code",
   "execution_count": 1,
   "id": "f414d482",
   "metadata": {},
   "outputs": [],
   "source": [
    "class Node:\n",
    "    def __init__(self,value):\n",
    "        self.value = value\n",
    "        self.next = None\n",
    "class LinkedList:\n",
    "    def __init__(self,value):\n",
    "        new_node = Node(value)\n",
    "        self.head = new_node\n",
    "        self.tail = new_node\n",
    "\n",
    "    def print_list(self):\n",
    "        temp = self.head\n",
    "        while temp:\n",
    "            print(f\"{temp.value}->\", end=\"\")\n",
    "            temp = temp.next\n",
    "        print(\"None\")\n",
    "\n",
    "    def append(self,value):\n",
    "        new_node = Node(value)\n",
    "        if self.head is not None:\n",
    "            self.tail.next = new_node\n",
    "            self.tail = new_node\n",
    "        else:\n",
    "            self.head = new_node\n",
    "            self.tail = new_node\n",
    "        return True\n",
    "\n",
    "    def find_has_loop(self):\n",
    "        slow = self.head\n",
    "        fast = self.head\n",
    "        while slow and fast and fast.next:\n",
    "            slow = slow.next\n",
    "            fast = fast.next.next\n",
    "            if (slow==fast):\n",
    "                return True\n",
    "        return False"
   ]
  },
  {
   "cell_type": "code",
   "execution_count": 2,
   "id": "3b012064",
   "metadata": {},
   "outputs": [
    {
     "name": "stdout",
     "output_type": "stream",
     "text": [
      "1->2->3->4->5->None\n"
     ]
    }
   ],
   "source": [
    "my_linked_list = LinkedList(1)\n",
    "my_linked_list.append(2)\n",
    "my_linked_list.append(3)\n",
    "my_linked_list.append(4)\n",
    "my_linked_list.append(5)\n",
    "my_linked_list.print_list()\n"
   ]
  },
  {
   "cell_type": "code",
   "execution_count": 3,
   "id": "c2674ebb",
   "metadata": {},
   "outputs": [
    {
     "data": {
      "text/plain": [
       "False"
      ]
     },
     "execution_count": 3,
     "metadata": {},
     "output_type": "execute_result"
    }
   ],
   "source": [
    "my_linked_list.find_has_loop()"
   ]
  },
  {
   "cell_type": "code",
   "execution_count": 4,
   "id": "7a44aa26",
   "metadata": {},
   "outputs": [
    {
     "data": {
      "text/plain": [
       "True"
      ]
     },
     "execution_count": 4,
     "metadata": {},
     "output_type": "execute_result"
    }
   ],
   "source": [
    "my_linked_list.tail.next = my_linked_list.head\n",
    "my_linked_list.find_has_loop()"
   ]
  }
 ],
 "metadata": {
  "kernelspec": {
   "display_name": "Python 3",
   "language": "python",
   "name": "python3"
  },
  "language_info": {
   "codemirror_mode": {
    "name": "ipython",
    "version": 3
   },
   "file_extension": ".py",
   "mimetype": "text/x-python",
   "name": "python",
   "nbconvert_exporter": "python",
   "pygments_lexer": "ipython3",
   "version": "3.12.6"
  }
 },
 "nbformat": 4,
 "nbformat_minor": 5
}
