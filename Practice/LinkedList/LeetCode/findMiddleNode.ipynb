{
 "cells": [
  {
   "cell_type": "markdown",
   "id": "c5a2f031",
   "metadata": {},
   "source": [
    "# Find Middle Node Implementation\n",
    "\n",
    "## Problem Description\n",
    "\n",
    "Implement the `find_middle_node` method for the LinkedList class.\n",
    "\n",
    "**Note:** This LinkedList implementation does not have a length member variable.\n",
    "\n",
    "**Behavior:** If the linked list has an even number of nodes, return the first node of the second half of the list.\n",
    "\n",
    "## Requirements\n",
    "\n",
    "- **Two-pointer approach:** Use one pointer (slow) that moves one node at a time and another pointer (fast) that moves two nodes at a time\n",
    "- **Termination condition:** When the fast pointer reaches the end of the list or has no next node, the slow pointer should be at the middle node\n",
    "- **Return value:** \n",
    "    - Middle node when the number of nodes is odd\n",
    "    - First node of the second half when the number of nodes is even\n",
    "- **Efficiency:** The method should only traverse the linked list once (single loop only)\n"
   ]
  },
  {
   "cell_type": "code",
   "execution_count": 24,
   "id": "a435ccfd",
   "metadata": {},
   "outputs": [],
   "source": [
    "class Node:\n",
    "    def __init__(self,value):\n",
    "        self.value = value\n",
    "        self.next = None\n",
    "class LinkedList:\n",
    "    def __init__(self,value):\n",
    "        new_node = Node(value)\n",
    "        self.head = new_node\n",
    "        self.tail = new_node\n",
    "\n",
    "    def print_list(self):\n",
    "        temp = self.head\n",
    "        while temp:\n",
    "            print(f\"{temp.value}->\", end=\"\")\n",
    "            temp = temp.next\n",
    "        print(\"None\")\n",
    "\n",
    "    def append(self,value):\n",
    "        new_node = Node(value)\n",
    "        if self.head is not None:\n",
    "            self.tail.next = new_node\n",
    "            self.tail = new_node\n",
    "        else:\n",
    "            self.head = new_node\n",
    "            self.tail = new_node\n",
    "        return True\n",
    "\n",
    "    def find_middle_node(self):\n",
    "        slow = self.head\n",
    "        fast = self.head\n",
    "        while slow and fast and fast.next:\n",
    "            slow = slow.next\n",
    "            fast = fast.next.next\n",
    "        return slow\n"
   ]
  },
  {
   "cell_type": "code",
   "execution_count": 25,
   "id": "6d86a327",
   "metadata": {},
   "outputs": [
    {
     "name": "stdout",
     "output_type": "stream",
     "text": [
      "10->20->30->40->None\n"
     ]
    },
    {
     "data": {
      "text/plain": [
       "30"
      ]
     },
     "execution_count": 25,
     "metadata": {},
     "output_type": "execute_result"
    }
   ],
   "source": [
    "ll = LinkedList(10)\n",
    "ll.append(20)\n",
    "ll.append(30)\n",
    "ll.append(40)\n",
    "# ll.append(50)\n",
    "ll.print_list()\n",
    "ll.find_middle_node().value"
   ]
  }
 ],
 "metadata": {
  "kernelspec": {
   "display_name": "Python 3",
   "language": "python",
   "name": "python3"
  },
  "language_info": {
   "codemirror_mode": {
    "name": "ipython",
    "version": 3
   },
   "file_extension": ".py",
   "mimetype": "text/x-python",
   "name": "python",
   "nbconvert_exporter": "python",
   "pygments_lexer": "ipython3",
   "version": "3.12.6"
  }
 },
 "nbformat": 4,
 "nbformat_minor": 5
}
