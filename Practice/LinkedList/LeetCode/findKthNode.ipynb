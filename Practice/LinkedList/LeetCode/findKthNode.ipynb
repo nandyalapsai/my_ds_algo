{
 "cells": [
  {
   "cell_type": "markdown",
   "id": "7af210ff",
   "metadata": {},
   "source": [
    "# LL: Find Kth Node From End ( ** Interview Question)\n",
    "## Implement the find_kth_from_end function, which takes the LinkedList (ll) and an integer k as input, and returns the k-th node from the end of the linked list WITHOUT USING LENGTH.\n",
    "\n",
    "\n",
    "\n",
    "**NOTE:** This is a SEPARATE FUNCTION that is NOT a method within the LinkedList class.  This means you need to indent the function all the way to the LEFT. \n",
    "\n",
    "\n",
    "\n",
    "## Given this LinkedList:\n",
    "\n",
    "- 1 -> 2 -> 3 -> 4 -> 5\n",
    "\n",
    "- If k=1 then return the first node from the end (the last node) which contains the value of 5.\n",
    "\n",
    "- If k=2 then return the second node from the end which contains the value of 4, etc.\n",
    "\n",
    "- If the index is out of bounds, the program should return None.\n",
    "\n",
    "- The find_kth_from_end function should follow these requirements:\n",
    "\n",
    "- The function should utilize two pointers, slow and fast, initialized to the head of the linked list.\n",
    "\n",
    "- The fast pointer should move k nodes ahead in the list.\n",
    "\n",
    "- If the fast pointer becomes None before moving k nodes, the function should return None, as the list is shorter than k nodes.\n",
    "\n",
    "- The slow and fast pointers should then move forward in the list at the same time until the fast pointer reaches the end of the list.\n",
    "\n",
    "- The function should return the slow pointer, which will be at the k-th position from the end of the list."
   ]
  },
  {
   "cell_type": "code",
   "execution_count": 2,
   "id": "6c9c7408",
   "metadata": {},
   "outputs": [],
   "source": [
    "class Node:\n",
    "    def __init__(self,value):\n",
    "        self.value = value\n",
    "        self.next = None\n",
    "class LinkedList:\n",
    "    def __init__(self,value):\n",
    "        new_node = Node(value)\n",
    "        self.head = new_node\n",
    "        self.tail = new_node\n",
    "\n",
    "    def print_list(self):\n",
    "        temp = self.head\n",
    "        while temp:\n",
    "            print(f\"{temp.value}->\", end=\"\")\n",
    "            temp = temp.next\n",
    "        print(\"None\")\n",
    "\n",
    "    def append(self,value):\n",
    "        new_node = Node(value)\n",
    "        if self.head is not None:\n",
    "            self.tail.next = new_node\n",
    "            self.tail = new_node\n",
    "        else:\n",
    "            self.head = new_node\n",
    "            self.tail = new_node\n",
    "        return True"
   ]
  },
  {
   "cell_type": "code",
   "execution_count": 5,
   "id": "fa179174",
   "metadata": {},
   "outputs": [],
   "source": [
    "def find_kth_node_from_end(ll:LinkedList,k):\n",
    "    slow = ll.head\n",
    "    fast = ll.head\n",
    "    for _ in range(k):\n",
    "        if fast is None:\n",
    "            return None\n",
    "        fast = fast.next\n",
    "    while fast:\n",
    "        slow = slow.next\n",
    "        fast = fast.next\n",
    "    return slow"
   ]
  },
  {
   "cell_type": "code",
   "execution_count": 13,
   "id": "9e58816b",
   "metadata": {},
   "outputs": [
    {
     "name": "stdout",
     "output_type": "stream",
     "text": [
      "4\n"
     ]
    }
   ],
   "source": [
    "my_linked_list = LinkedList(1)\n",
    "my_linked_list.append(2)\n",
    "my_linked_list.append(3)\n",
    "my_linked_list.append(4)\n",
    "my_linked_list.append(5)\n",
    "\n",
    "\n",
    "k = 2\n",
    "result = find_kth_node_from_end(my_linked_list, k)\n",
    "print(result.value)\n"
   ]
  }
 ],
 "metadata": {
  "kernelspec": {
   "display_name": "Python 3",
   "language": "python",
   "name": "python3"
  },
  "language_info": {
   "codemirror_mode": {
    "name": "ipython",
    "version": 3
   },
   "file_extension": ".py",
   "mimetype": "text/x-python",
   "name": "python",
   "nbconvert_exporter": "python",
   "pygments_lexer": "ipython3",
   "version": "3.12.6"
  }
 },
 "nbformat": 4,
 "nbformat_minor": 5
}
