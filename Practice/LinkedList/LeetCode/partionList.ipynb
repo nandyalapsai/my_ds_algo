{
 "cells": [
  {
   "cell_type": "markdown",
   "id": "b562f347",
   "metadata": {},
   "source": [
    "Input:\n",
    "\n",
    "Linked List: 3 -> 8 -> 5 -> 10 -> 2 -> 1 x: 5\n",
    "\n",
    "Process:\n",
    "\n",
    "Values less than 5: 3, 2, 1\n",
    "\n",
    "Values greater than or equal to 5: 8, 5, 10\n",
    "\n",
    "Output:\n",
    "\n",
    "Linked List: 3 -> 2 -> 1 -> 8 -> 5 -> 10\n",
    "\n"
   ]
  },
  {
   "cell_type": "code",
   "execution_count": 51,
   "id": "d5ee018a",
   "metadata": {},
   "outputs": [],
   "source": [
    "class Node:\n",
    "    def __init__(self,value):\n",
    "        self.value = value\n",
    "        self.next = None\n",
    "class LinkedList:\n",
    "    def __init__(self,value):\n",
    "        new_node = Node(value)\n",
    "        self.head = new_node\n",
    "        self.tail = new_node\n",
    "        self.length = 1\n",
    "\n",
    "    def print_list(self):\n",
    "        temp = self.head\n",
    "        while temp:\n",
    "            print(f\"{temp.value}->\", end=\"\")\n",
    "            temp = temp.next\n",
    "        print(\"None\")\n",
    "\n",
    "    def append(self,value):\n",
    "        new_node = Node(value)\n",
    "        if self.head is not None:\n",
    "            self.tail.next = new_node\n",
    "            self.tail = new_node\n",
    "        else:\n",
    "            self.head = new_node\n",
    "            self.tail = new_node\n",
    "        self.length+=1\n",
    "        return True\n",
    "    \n",
    "    def partion_list(self,x):\n",
    "        if self.head is None:\n",
    "            return \n",
    "        if self.head.next is None:\n",
    "            return \n",
    "        left_partition = None\n",
    "        left_prev = left_partition\n",
    "        right_partition = None\n",
    "        rigt_prev = right_partition\n",
    "        current = self.head\n",
    "        while current:\n",
    "            print(current.value)\n",
    "            new_node = Node(current.value)\n",
    "            if current.value < x:\n",
    "                if left_prev:\n",
    "                    left_prev.next = new_node\n",
    "                    left_prev = left_prev.next\n",
    "                else:\n",
    "                    left_partition = new_node\n",
    "                    left_prev = left_partition\n",
    "            else:\n",
    "                if rigt_prev:\n",
    "                    rigt_prev.next = new_node\n",
    "                    rigt_prev = rigt_prev.next\n",
    "                else:\n",
    "                    right_partition = new_node\n",
    "                    rigt_prev = right_partition\n",
    "            current = current.next\n",
    "        if left_prev and rigt_prev:\n",
    "            self.head = None\n",
    "            self.tail = None\n",
    "            left_prev.next = right_partition\n",
    "            self.head = left_partition\n",
    "            # self.tail = rigt_prev\n",
    "\n"
   ]
  },
  {
   "cell_type": "code",
   "execution_count": 52,
   "id": "ee8851e9",
   "metadata": {},
   "outputs": [
    {
     "name": "stdout",
     "output_type": "stream",
     "text": [
      "3->8->5->10->2->1->None\n"
     ]
    }
   ],
   "source": [
    "ll = LinkedList(3)\n",
    "ll.append(8)\n",
    "ll.append(5)\n",
    "ll.append(10)\n",
    "ll.append(2)\n",
    "ll.append(1)\n",
    "ll.print_list()\n"
   ]
  },
  {
   "cell_type": "code",
   "execution_count": 53,
   "id": "67c7d5e0",
   "metadata": {},
   "outputs": [
    {
     "name": "stdout",
     "output_type": "stream",
     "text": [
      "3\n",
      "8\n",
      "5\n",
      "10\n",
      "2\n",
      "1\n",
      "3->2->1->8->5->10->None\n"
     ]
    }
   ],
   "source": [
    "ll.partion_list(5)\n",
    "ll.print_list()"
   ]
  },
  {
   "cell_type": "code",
   "execution_count": 54,
   "id": "21e9b1e8",
   "metadata": {},
   "outputs": [
    {
     "name": "stdout",
     "output_type": "stream",
     "text": [
      "1->4->3->2->5->2->None\n"
     ]
    }
   ],
   "source": [
    "ll = LinkedList(1)\n",
    "ll.append(4)\n",
    "ll.append(3)\n",
    "ll.append(2)\n",
    "ll.append(5)\n",
    "ll.append(2)\n",
    "ll.print_list()\n"
   ]
  },
  {
   "cell_type": "code",
   "execution_count": 55,
   "id": "93dd5044",
   "metadata": {},
   "outputs": [
    {
     "name": "stdout",
     "output_type": "stream",
     "text": [
      "1\n",
      "4\n",
      "3\n",
      "2\n",
      "5\n",
      "2\n",
      "1->2->2->4->3->5->None\n"
     ]
    }
   ],
   "source": [
    "ll.partion_list(3)\n",
    "ll.print_list()"
   ]
  }
 ],
 "metadata": {
  "kernelspec": {
   "display_name": "Python 3",
   "language": "python",
   "name": "python3"
  },
  "language_info": {
   "codemirror_mode": {
    "name": "ipython",
    "version": 3
   },
   "file_extension": ".py",
   "mimetype": "text/x-python",
   "name": "python",
   "nbconvert_exporter": "python",
   "pygments_lexer": "ipython3",
   "version": "3.12.6"
  }
 },
 "nbformat": 4,
 "nbformat_minor": 5
}
