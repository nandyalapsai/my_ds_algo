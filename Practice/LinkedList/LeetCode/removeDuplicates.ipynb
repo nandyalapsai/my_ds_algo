{
 "cells": [
  {
   "cell_type": "code",
   "execution_count": 40,
   "id": "1b37108a",
   "metadata": {},
   "outputs": [],
   "source": [
    "class Node:\n",
    "    def __init__(self,value):\n",
    "        self.value = value\n",
    "        self.next = None\n",
    "class LinkedList:\n",
    "    def __init__(self,value):\n",
    "        new_node = Node(value)\n",
    "        self.head = new_node\n",
    "        self.tail = new_node\n",
    "        self.length = 1\n",
    "\n",
    "    def print_list(self):\n",
    "        temp = self.head\n",
    "        while temp:\n",
    "            print(f\"{temp.value}->\", end=\"\")\n",
    "            temp = temp.next\n",
    "        print(\"None\")\n",
    "\n",
    "    def append(self,value):\n",
    "        new_node = Node(value)\n",
    "        if self.head is not None:\n",
    "            self.tail.next = new_node\n",
    "            self.tail = new_node\n",
    "        else:\n",
    "            self.head = new_node\n",
    "            self.tail = new_node\n",
    "        self.length+=1\n",
    "        return True\n",
    "    \n",
    "    def remove_duplicates(self):\n",
    "        unique = set()\n",
    "        current = self.head\n",
    "        prev = None\n",
    "        while current:\n",
    "            if current.value in unique:\n",
    "                next_node = current.next\n",
    "                prev.next = next_node\n",
    "                current.next = None\n",
    "                current = next_node\n",
    "                self.length-=1\n",
    "            else:\n",
    "                unique.add(current.value)\n",
    "                prev = current\n",
    "                current = current.next\n",
    "                \n"
   ]
  },
  {
   "cell_type": "code",
   "execution_count": 41,
   "id": "e5d693a4",
   "metadata": {},
   "outputs": [
    {
     "name": "stdout",
     "output_type": "stream",
     "text": [
      "1->2->3->3->5->None\n"
     ]
    }
   ],
   "source": [
    "my_linked_list = LinkedList(1)\n",
    "my_linked_list.append(2)\n",
    "my_linked_list.append(3)\n",
    "my_linked_list.append(3)\n",
    "my_linked_list.append(5)\n",
    "my_linked_list.print_list()"
   ]
  },
  {
   "cell_type": "code",
   "execution_count": 42,
   "id": "8515157f",
   "metadata": {},
   "outputs": [],
   "source": [
    "my_linked_list.remove_duplicates()\n"
   ]
  },
  {
   "cell_type": "code",
   "execution_count": 43,
   "id": "41f00a59",
   "metadata": {},
   "outputs": [
    {
     "name": "stdout",
     "output_type": "stream",
     "text": [
      "1->2->3->5->None\n"
     ]
    }
   ],
   "source": [
    "my_linked_list.print_list()"
   ]
  },
  {
   "cell_type": "code",
   "execution_count": 44,
   "id": "894c5b53",
   "metadata": {},
   "outputs": [
    {
     "data": {
      "text/plain": [
       "4"
      ]
     },
     "execution_count": 44,
     "metadata": {},
     "output_type": "execute_result"
    }
   ],
   "source": [
    "my_linked_list.length"
   ]
  }
 ],
 "metadata": {
  "kernelspec": {
   "display_name": "Python 3",
   "language": "python",
   "name": "python3"
  },
  "language_info": {
   "codemirror_mode": {
    "name": "ipython",
    "version": 3
   },
   "file_extension": ".py",
   "mimetype": "text/x-python",
   "name": "python",
   "nbconvert_exporter": "python",
   "pygments_lexer": "ipython3",
   "version": "3.12.6"
  }
 },
 "nbformat": 4,
 "nbformat_minor": 5
}
