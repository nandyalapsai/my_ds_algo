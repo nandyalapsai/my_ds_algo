{
 "cells": [
  {
   "cell_type": "code",
   "execution_count": null,
   "id": "1e148c0e",
   "metadata": {},
   "outputs": [],
   "source": [
    "class Node:\n",
    "    def __init__(self,value):\n",
    "        self.value = value\n",
    "        self.next = None\n",
    "class LinkedList:\n",
    "    def __init__(self, value):\n",
    "        new_node = Node(value)\n",
    "        self.head = new_node\n",
    "        self.length = 1\n",
    "\n",
    "    def append(self, value):\n",
    "        new_node = Node(value)\n",
    "        if self.length == 0:\n",
    "            self.head = new_node\n",
    "        else:\n",
    "            current = self.head\n",
    "            while current.next is not None:\n",
    "                current = current.next\n",
    "            current.next = new_node\n",
    "        self.length += 1\n",
    "        return True\n",
    "    \n",
    "    def print_list(self):\n",
    "        temp = self.head\n",
    "        while temp:\n",
    "            print(f\"{temp.value}->\", end=\"\")\n",
    "            temp = temp.next\n",
    "        print(\"None\")\n",
    "\n",
    "    def swap_nodes_in_pair(self):\n",
    "        dummy = Node(None)\n",
    "        dummy.next = self.head\n",
    "        previous = dummy\n",
    "        first = self.head\n",
    "        while first and first.next:\n",
    "            second = first.next\n",
    "            previous.next = second\n",
    "            first.next = second.next\n",
    "            second.next = first\n",
    "            previous = first\n",
    "            first = first.next\n",
    "        self.head = dummy.next\n",
    "        "
   ]
  },
  {
   "cell_type": "code",
   "execution_count": 24,
   "id": "51b3ec5c",
   "metadata": {},
   "outputs": [
    {
     "name": "stdout",
     "output_type": "stream",
     "text": [
      "1->2->3->4->5->None\n"
     ]
    }
   ],
   "source": [
    "my_linked_list = LinkedList(1)\n",
    "my_linked_list.append(2)\n",
    "my_linked_list.append(3)\n",
    "my_linked_list.append(4)\n",
    "my_linked_list.append(5)\n",
    "my_linked_list.print_list()"
   ]
  },
  {
   "cell_type": "code",
   "execution_count": 25,
   "id": "140c3ba1",
   "metadata": {},
   "outputs": [
    {
     "name": "stdout",
     "output_type": "stream",
     "text": [
      "1->3->4->5->None\n",
      "1->4->3->5->None\n",
      "2->1->4->3->5->None\n"
     ]
    }
   ],
   "source": [
    "my_linked_list.swap_nodes_in_pair()\n",
    "my_linked_list.print_list()"
   ]
  }
 ],
 "metadata": {
  "kernelspec": {
   "display_name": "Python 3",
   "language": "python",
   "name": "python3"
  },
  "language_info": {
   "codemirror_mode": {
    "name": "ipython",
    "version": 3
   },
   "file_extension": ".py",
   "mimetype": "text/x-python",
   "name": "python",
   "nbconvert_exporter": "python",
   "pygments_lexer": "ipython3",
   "version": "3.12.6"
  }
 },
 "nbformat": 4,
 "nbformat_minor": 5
}
